{
 "cells": [
  {
   "cell_type": "code",
   "execution_count": 49,
   "id": "99751e7d-7886-44af-9169-837598142a64",
   "metadata": {},
   "outputs": [],
   "source": [
    "import os\n",
    "import nbformat\n",
    "from timer_class import Timer\n",
    "\n",
    "t = Timer()"
   ]
  },
  {
   "cell_type": "code",
   "execution_count": 51,
   "id": "1a346107-dfd6-4425-b60f-b00955d67d2c",
   "metadata": {},
   "outputs": [
    {
     "name": "stdout",
     "output_type": "stream",
     "text": [
      "Starting timer.\n",
      "Notebook loaded successfully.\n",
      "Ending timer.\n",
      "Total elapsed time: 5.964214563369751 seconds\n",
      "\n"
     ]
    }
   ],
   "source": [
    "#Begin timer\n",
    "t.start()\n",
    "\n",
    "#Define directory and file name\n",
    "directory = r'C:\\Users\\HP\\Documents\\Python\\UBCTG\\Index'\n",
    "file_name = 'Clean File.ipynb'\n",
    "file_path = os.path.join(directory, file_name)\n",
    "\n",
    "#Load the notebook\n",
    "try:\n",
    "    with open(file_path, 'r', encoding='utf-8') as f:\n",
    "        nb = nbformat.read(f, as_version=4)\n",
    "    print(\"Notebook loaded successfully.\")\n",
    "except FileNotFoundError:\n",
    "    print(f\"Notebook file not found at {file_path}. Check path/file name.\") \n",
    "\n",
    "#End timer\n",
    "t.end()"
   ]
  },
  {
   "cell_type": "code",
   "execution_count": 52,
   "id": "bd2b51b2-cdd6-4038-aa40-255cab09cfb7",
   "metadata": {},
   "outputs": [
    {
     "name": "stdout",
     "output_type": "stream",
     "text": [
      "Section 5 found at cell index 81.\n",
      "Notebook format version: 4 (version 5)\n"
     ]
    }
   ],
   "source": [
    "#Define the header text for Section 5; look for this string in markdown to split notebook \n",
    "section_5_header = '# Section 5: Extract concatenated Index values for all stocks.'\n",
    "\n",
    "#Search for split point\n",
    "split_index = None\n",
    "for i, cell in enumerate(nb.cells):\n",
    "    if cell.cell_type == 'markdown' and section_5_header in cell.source:\n",
    "        split_index = i\n",
    "        break\n",
    "\n",
    "# Check if we found the split point\n",
    "if split_index is not None:\n",
    "    print(f\"Section 5 found at cell index {split_index}.\")\n",
    "else:\n",
    "    print(\"Section 5 header not found.\")\n",
    "\n",
    "\n",
    "#Check the version of the notebook format\n",
    "print(f\"Notebook format version: {nb['nbformat']} (version {nb['nbformat_minor']})\")"
   ]
  },
  {
   "cell_type": "code",
   "execution_count": 53,
   "id": "e5ddd8ca-3812-4548-8558-8748fbd01b55",
   "metadata": {},
   "outputs": [
    {
     "name": "stdout",
     "output_type": "stream",
     "text": [
      "Starting timer.\n",
      "Ending timer.\n",
      "Total elapsed time: 14.00563669204712 seconds\n",
      "\n",
      "Notebooks saved:\n",
      "Output Path Part 1: C:\\Users\\HP\\Documents\\Python\\UBCTG\\Index\\Clean File Part 1 (Index and Factor Construction).ipynb\n",
      "Output Path Part 2: C:\\Users\\HP\\Documents\\Python\\UBCTG\\Index\\Clean File Part 2 (Matrix Construction).ipynb\n"
     ]
    }
   ],
   "source": [
    "#Begin timer\n",
    "t.start()\n",
    "\n",
    "# Split the notebook at the found index\n",
    "nb1 = nbformat.v4.new_notebook()\n",
    "nb1.cells = nb.cells[:split_index]  #Cells for sections 1 to 4; cut at section 5 markdown \n",
    "\n",
    "nb2 = nbformat.v4.new_notebook()\n",
    "nb2.cells = nb.cells[split_index:]  #Cells for sections 5 to 7\n",
    "\n",
    "# Step 5: Save the two new notebooks\n",
    "output_path1 = os.path.join(directory, 'Clean File Part 1 (Index and Factor Construction).ipynb')\n",
    "output_path2 = os.path.join(directory, 'Clean File Part 2 (Matrix Construction).ipynb')\n",
    "\n",
    "with open(output_path1, 'w', encoding='utf-8') as f1:\n",
    "    nbformat.write(nb1, f1)\n",
    "    \n",
    "with open(output_path2, 'w', encoding='utf-8') as f2:\n",
    "    nbformat.write(nb2, f2)\n",
    "\n",
    "\n",
    "#End timer\n",
    "t.end()\n",
    "\n",
    "print(f\"Notebooks saved:\\nOutput Path Part 1: {output_path1}\\nOutput Path Part 2: {output_path2}\")"
   ]
  },
  {
   "cell_type": "code",
   "execution_count": null,
   "id": "cc713951-09a9-461b-84f4-640923ca5193",
   "metadata": {},
   "outputs": [],
   "source": []
  },
  {
   "cell_type": "code",
   "execution_count": null,
   "id": "e0788e6f-899a-41f7-aabc-c205c7e128bc",
   "metadata": {},
   "outputs": [],
   "source": []
  },
  {
   "cell_type": "code",
   "execution_count": null,
   "id": "12bfc1b9-ecef-4ebb-8815-9c7e22f09c59",
   "metadata": {},
   "outputs": [],
   "source": []
  },
  {
   "cell_type": "code",
   "execution_count": 56,
   "id": "543fa2f4-f543-4c7f-84f3-60e35084209b",
   "metadata": {},
   "outputs": [],
   "source": [
    "# #Function to get the next available version number and keep appending instead of overwriting files\n",
    "# def get_next_version(file_path):\n",
    "#     version = 1\n",
    "#     while os.path.exists(file_path.format(version)):\n",
    "#         version += 1\n",
    "#     return version\n",
    "\n",
    "\n",
    "# #Begin timer\n",
    "# t.start()\n",
    "\n",
    "\n",
    "# #Save the two new notebooks with versioning\n",
    "# base_filename1 = os.path.join(directory, 'Clean File Part 1 (Index and Factor Construction) v{}.ipynb')\n",
    "# base_filename2 = os.path.join(directory, 'Clean File Part 2 (Matrix Construction) v{}.ipynb')\n",
    "\n",
    "# # Get the next available version for each part\n",
    "# output_path1 = base_filename1.format(get_next_version(base_filename1))\n",
    "# output_path2 = base_filename2.format(get_next_version(base_filename2))\n",
    "\n",
    "# with open(output_path1, 'w', encoding='utf-8') as f1:\n",
    "#     nbformat.write(nb1, f1)\n",
    "    \n",
    "# with open(output_path2, 'w', encoding='utf-8') as f2:\n",
    "#     nbformat.write(nb2, f2)\n",
    "\n",
    "\n",
    "# #End timer\n",
    "# t.end()\n",
    "\n",
    "# print(f\"Notebooks saved:\\nOutput Path Part 1: {output_path1}\\nOutput Path Part 2: {output_path2}\")"
   ]
  },
  {
   "cell_type": "code",
   "execution_count": null,
   "id": "f7a23416-af07-413f-b6f9-042b472f83ea",
   "metadata": {},
   "outputs": [],
   "source": []
  }
 ],
 "metadata": {
  "kernelspec": {
   "display_name": "Python 3 (ipykernel)",
   "language": "python",
   "name": "python3"
  },
  "language_info": {
   "codemirror_mode": {
    "name": "ipython",
    "version": 3
   },
   "file_extension": ".py",
   "mimetype": "text/x-python",
   "name": "python",
   "nbconvert_exporter": "python",
   "pygments_lexer": "ipython3",
   "version": "3.12.4"
  }
 },
 "nbformat": 4,
 "nbformat_minor": 5
}
