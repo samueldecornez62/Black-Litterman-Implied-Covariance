{
 "cells": [
  {
   "cell_type": "code",
   "execution_count": 4,
   "id": "e79ec81c-e008-4879-916b-d4a336c03c4b",
   "metadata": {},
   "outputs": [
    {
     "data": {
      "text/html": [
       "<div>\n",
       "<style scoped>\n",
       "    .dataframe tbody tr th:only-of-type {\n",
       "        vertical-align: middle;\n",
       "    }\n",
       "\n",
       "    .dataframe tbody tr th {\n",
       "        vertical-align: top;\n",
       "    }\n",
       "\n",
       "    .dataframe thead th {\n",
       "        text-align: right;\n",
       "    }\n",
       "</style>\n",
       "<table border=\"1\" class=\"dataframe\">\n",
       "  <thead>\n",
       "    <tr style=\"text-align: right;\">\n",
       "      <th></th>\n",
       "      <th>Date</th>\n",
       "      <th>Permno</th>\n",
       "      <th>Ticker</th>\n",
       "      <th>Returns</th>\n",
       "    </tr>\n",
       "  </thead>\n",
       "  <tbody>\n",
       "    <tr>\n",
       "      <th>0</th>\n",
       "      <td>2018-01-02</td>\n",
       "      <td>10026</td>\n",
       "      <td>JJSF</td>\n",
       "      <td>-0.017454</td>\n",
       "    </tr>\n",
       "    <tr>\n",
       "      <th>1</th>\n",
       "      <td>2018-01-03</td>\n",
       "      <td>10026</td>\n",
       "      <td>JJSF</td>\n",
       "      <td>-0.009988</td>\n",
       "    </tr>\n",
       "    <tr>\n",
       "      <th>2</th>\n",
       "      <td>2018-01-04</td>\n",
       "      <td>10026</td>\n",
       "      <td>JJSF</td>\n",
       "      <td>0.013813</td>\n",
       "    </tr>\n",
       "    <tr>\n",
       "      <th>3</th>\n",
       "      <td>2018-01-05</td>\n",
       "      <td>10026</td>\n",
       "      <td>JJSF</td>\n",
       "      <td>-0.009551</td>\n",
       "    </tr>\n",
       "    <tr>\n",
       "      <th>4</th>\n",
       "      <td>2018-01-08</td>\n",
       "      <td>10026</td>\n",
       "      <td>JJSF</td>\n",
       "      <td>0.000742</td>\n",
       "    </tr>\n",
       "    <tr>\n",
       "      <th>...</th>\n",
       "      <td>...</td>\n",
       "      <td>...</td>\n",
       "      <td>...</td>\n",
       "      <td>...</td>\n",
       "    </tr>\n",
       "    <tr>\n",
       "      <th>5884311</th>\n",
       "      <td>2021-01-25</td>\n",
       "      <td>93436</td>\n",
       "      <td>TSLA</td>\n",
       "      <td>0.040348</td>\n",
       "    </tr>\n",
       "    <tr>\n",
       "      <th>5884312</th>\n",
       "      <td>2021-01-26</td>\n",
       "      <td>93436</td>\n",
       "      <td>TSLA</td>\n",
       "      <td>0.002600</td>\n",
       "    </tr>\n",
       "    <tr>\n",
       "      <th>5884313</th>\n",
       "      <td>2021-01-27</td>\n",
       "      <td>93436</td>\n",
       "      <td>TSLA</td>\n",
       "      <td>-0.021436</td>\n",
       "    </tr>\n",
       "    <tr>\n",
       "      <th>5884314</th>\n",
       "      <td>2021-01-28</td>\n",
       "      <td>93436</td>\n",
       "      <td>TSLA</td>\n",
       "      <td>-0.033246</td>\n",
       "    </tr>\n",
       "    <tr>\n",
       "      <th>5884315</th>\n",
       "      <td>2021-01-29</td>\n",
       "      <td>93436</td>\n",
       "      <td>TSLA</td>\n",
       "      <td>-0.050154</td>\n",
       "    </tr>\n",
       "  </tbody>\n",
       "</table>\n",
       "<p>5884316 rows × 4 columns</p>\n",
       "</div>"
      ],
      "text/plain": [
       "               Date  Permno Ticker   Returns\n",
       "0        2018-01-02   10026   JJSF -0.017454\n",
       "1        2018-01-03   10026   JJSF -0.009988\n",
       "2        2018-01-04   10026   JJSF  0.013813\n",
       "3        2018-01-05   10026   JJSF -0.009551\n",
       "4        2018-01-08   10026   JJSF  0.000742\n",
       "...             ...     ...    ...       ...\n",
       "5884311  2021-01-25   93436   TSLA  0.040348\n",
       "5884312  2021-01-26   93436   TSLA  0.002600\n",
       "5884313  2021-01-27   93436   TSLA -0.021436\n",
       "5884314  2021-01-28   93436   TSLA -0.033246\n",
       "5884315  2021-01-29   93436   TSLA -0.050154\n",
       "\n",
       "[5884316 rows x 4 columns]"
      ]
     },
     "execution_count": 4,
     "metadata": {},
     "output_type": "execute_result"
    }
   ],
   "source": [
    "import pandas as pd\n",
    "\n",
    "# Define the full path to the CSV file\n",
    "\n",
    "\n",
    "#Update this path for the file if moving around: fix_sector_add_marketcap\n",
    "csv_file = r'fix_sector_add_marketcap.csv'\n",
    "\n",
    "\n",
    "\n",
    "# Read the CSV file\n",
    "df = pd.read_csv(csv_file)\n",
    "#Drop this column now; it is wrong and needs to be fixed anyways \n",
    "df = df.drop(columns=['sector'])\n",
    "\n",
    "df"
   ]
  },
  {
   "cell_type": "code",
   "execution_count": 5,
   "id": "76ae422c-7a3a-4d11-b684-b2f2f1e6df9b",
   "metadata": {},
   "outputs": [
    {
     "name": "stdout",
     "output_type": "stream",
     "text": [
      "Number of unique tickers: 9782\n"
     ]
    }
   ],
   "source": [
    "#Split this into 1 dataframe per unique ticker. Call them in dictionaries, see below \n",
    "\n",
    "#Create a list of unique tickers\n",
    "unique_tickers = df['Ticker'].unique()\n",
    "# print(f\"Number of unique tickers: {len(unique_tickers)}\")\n",
    "\n",
    "#Remove the nan\n",
    "unique_tickers = [ticker for ticker in unique_tickers if isinstance(ticker, str)]\n",
    "print(f\"Number of unique tickers: {len(unique_tickers)}\")"
   ]
  },
  {
   "cell_type": "code",
   "execution_count": 12,
   "id": "225cade7-245c-4d66-9d83-f98bf2305c3a",
   "metadata": {},
   "outputs": [],
   "source": [
    "unique_tickers;"
   ]
  },
  {
   "cell_type": "code",
   "execution_count": null,
   "id": "3f2fdf14-dd64-47ea-9b00-a4ff44ab7db9",
   "metadata": {},
   "outputs": [],
   "source": []
  },
  {
   "cell_type": "code",
   "execution_count": 37,
   "id": "0158a353-6852-4806-8937-2f430caeb561",
   "metadata": {},
   "outputs": [],
   "source": [
    "new_list = []\n",
    "\n",
    "for ticker in unique_tickers:\n",
    "    new_list.append(ticker)\n",
    "    new_list.append('')  # Insert an empty string for space"
   ]
  },
  {
   "cell_type": "code",
   "execution_count": null,
   "id": "d5d9aa27-062b-4a37-8775-e56b327d814d",
   "metadata": {},
   "outputs": [],
   "source": []
  },
  {
   "cell_type": "code",
   "execution_count": null,
   "id": "bb472872-f978-40a4-a1f4-30084706e13e",
   "metadata": {},
   "outputs": [],
   "source": []
  },
  {
   "cell_type": "code",
   "execution_count": 39,
   "id": "b0692f69-55ff-4583-bc58-58bd80f04734",
   "metadata": {},
   "outputs": [
    {
     "data": {
      "text/html": [
       "<div>\n",
       "<style scoped>\n",
       "    .dataframe tbody tr th:only-of-type {\n",
       "        vertical-align: middle;\n",
       "    }\n",
       "\n",
       "    .dataframe tbody tr th {\n",
       "        vertical-align: top;\n",
       "    }\n",
       "\n",
       "    .dataframe thead th {\n",
       "        text-align: right;\n",
       "    }\n",
       "</style>\n",
       "<table border=\"1\" class=\"dataframe\">\n",
       "  <thead>\n",
       "    <tr style=\"text-align: right;\">\n",
       "      <th></th>\n",
       "      <th>JJSF</th>\n",
       "      <th>DGSE</th>\n",
       "      <th>ELA</th>\n",
       "      <th>PLXS</th>\n",
       "      <th>RMCF</th>\n",
       "      <th>HNGR</th>\n",
       "      <th>ADX</th>\n",
       "      <th>ORCL</th>\n",
       "      <th>MSFT</th>\n",
       "      <th>AADR</th>\n",
       "      <th>...</th>\n",
       "      <th>QEP</th>\n",
       "      <th>SIX</th>\n",
       "      <th>CORN</th>\n",
       "      <th>BNO</th>\n",
       "      <th>VPG</th>\n",
       "      <th>FN</th>\n",
       "      <th>BSFT</th>\n",
       "      <th>CBOE</th>\n",
       "      <th>SANW</th>\n",
       "      <th>TSLA</th>\n",
       "    </tr>\n",
       "  </thead>\n",
       "  <tbody>\n",
       "  </tbody>\n",
       "</table>\n",
       "<p>0 rows × 9782 columns</p>\n",
       "</div>"
      ],
      "text/plain": [
       "Empty DataFrame\n",
       "Columns: [JJSF, DGSE, ELA, PLXS, RMCF, HNGR, ADX, ORCL, MSFT, AADR, TROW, HON, AMRC, AKRX, TECD, RGEN, AT, FUND, BWXT, ESBK, BWINB, PTVCB, INDB, DSS, DLHC, CLDX, SIGM, HVT, CY, TMP, BCPC, XOMA, DJCO, AMAG, TCF, ASTE, NAVG, WERN, SKYW, FRPH, REFR, AMWD, TWMC, KSPN, ADM, AAN, PRG, VIVO, CLFD, PDEX, WTS, FNB, LAKE, PTSI, ACET, CYAN, EHC, FISV, FCNCA, RWC, BKTI, BKSC, HTLD, CYTR, OSUR, CAL, BC, DXYN, UIS, WSFS, ITIC, CERN, FFKT, WBS, MKL, CDR, AXGN, WPZ, FLIC, FBP, PMD, AVD, PLAB, CRMT, GASL, AGII, ARGO, OFG, RETL, CATO, REPR, KRMD, FBNC, ICCC, WSBC, KO, SAFM, CNBKA, ECT, SCIN, ...]\n",
       "Index: []\n",
       "\n",
       "[0 rows x 9782 columns]"
      ]
     },
     "execution_count": 39,
     "metadata": {},
     "output_type": "execute_result"
    }
   ],
   "source": [
    "col_df = pd.DataFrame(columns = unique_tickers)\n",
    "col_df"
   ]
  },
  {
   "cell_type": "code",
   "execution_count": 41,
   "id": "3563c438-d94f-4fd8-b060-af5646cecc6c",
   "metadata": {},
   "outputs": [
    {
     "data": {
      "text/html": [
       "<div>\n",
       "<style scoped>\n",
       "    .dataframe tbody tr th:only-of-type {\n",
       "        vertical-align: middle;\n",
       "    }\n",
       "\n",
       "    .dataframe tbody tr th {\n",
       "        vertical-align: top;\n",
       "    }\n",
       "\n",
       "    .dataframe thead th {\n",
       "        text-align: right;\n",
       "    }\n",
       "</style>\n",
       "<table border=\"1\" class=\"dataframe\">\n",
       "  <thead>\n",
       "    <tr style=\"text-align: right;\">\n",
       "      <th></th>\n",
       "      <th>JJSF</th>\n",
       "      <th>-</th>\n",
       "      <th>DGSE</th>\n",
       "      <th>-</th>\n",
       "      <th>ELA</th>\n",
       "      <th>-</th>\n",
       "      <th>PLXS</th>\n",
       "      <th>-</th>\n",
       "      <th>RMCF</th>\n",
       "      <th>-</th>\n",
       "      <th>...</th>\n",
       "      <th>FN</th>\n",
       "      <th>-</th>\n",
       "      <th>BSFT</th>\n",
       "      <th>-</th>\n",
       "      <th>CBOE</th>\n",
       "      <th>-</th>\n",
       "      <th>SANW</th>\n",
       "      <th>-</th>\n",
       "      <th>TSLA</th>\n",
       "      <th>-</th>\n",
       "    </tr>\n",
       "  </thead>\n",
       "  <tbody>\n",
       "  </tbody>\n",
       "</table>\n",
       "<p>0 rows × 19564 columns</p>\n",
       "</div>"
      ],
      "text/plain": [
       "Empty DataFrame\n",
       "Columns: [JJSF, -, DGSE, -, ELA, -, PLXS, -, RMCF, -, HNGR, -, ADX, -, ORCL, -, MSFT, -, AADR, -, TROW, -, HON, -, AMRC, -, AKRX, -, TECD, -, RGEN, -, AT, -, FUND, -, BWXT, -, ESBK, -, BWINB, -, PTVCB, -, INDB, -, DSS, -, DLHC, -, CLDX, -, SIGM, -, HVT, -, CY, -, TMP, -, BCPC, -, XOMA, -, DJCO, -, AMAG, -, TCF, -, ASTE, -, NAVG, -, WERN, -, SKYW, -, FRPH, -, REFR, -, AMWD, -, TWMC, -, KSPN, -, ADM, -, AAN, -, PRG, -, VIVO, -, CLFD, -, PDEX, -, ...]\n",
       "Index: []\n",
       "\n",
       "[0 rows x 19564 columns]"
      ]
     },
     "execution_count": 41,
     "metadata": {},
     "output_type": "execute_result"
    }
   ],
   "source": [
    "new_col_df = pd.DataFrame(columns = new_list)\n",
    "new_col_df"
   ]
  },
  {
   "cell_type": "code",
   "execution_count": null,
   "id": "0a376b9b-539d-4e30-ab18-1d637239055f",
   "metadata": {},
   "outputs": [],
   "source": []
  },
  {
   "cell_type": "code",
   "execution_count": null,
   "id": "eee5eeb2-b558-47cc-b905-c4b45d8298ae",
   "metadata": {},
   "outputs": [],
   "source": []
  },
  {
   "cell_type": "code",
   "execution_count": null,
   "id": "32d577fe-bf7c-435d-808e-d13cbe1ef10f",
   "metadata": {},
   "outputs": [],
   "source": []
  },
  {
   "cell_type": "code",
   "execution_count": 34,
   "id": "9f0a560a-d5ff-422c-a20a-bb9a6cbe5ce7",
   "metadata": {},
   "outputs": [],
   "source": [
    "col_df.to_excel('stock_list.xlsx', index = False)"
   ]
  },
  {
   "cell_type": "code",
   "execution_count": 47,
   "id": "11cf4c1d-e9b9-40dd-b98c-bdd20b6d27bc",
   "metadata": {},
   "outputs": [
    {
     "ename": "ValueError",
     "evalue": "This sheet is too large! Your sheet size is: 0, 19564 Max sheet size is: 1048576, 16384",
     "output_type": "error",
     "traceback": [
      "\u001b[1;31m---------------------------------------------------------------------------\u001b[0m",
      "\u001b[1;31mValueError\u001b[0m                                Traceback (most recent call last)",
      "Cell \u001b[1;32mIn[47], line 1\u001b[0m\n\u001b[1;32m----> 1\u001b[0m new_col_df\u001b[38;5;241m.\u001b[39mto_excel(\u001b[38;5;124m'\u001b[39m\u001b[38;5;124mgood_stock_list.xlsx\u001b[39m\u001b[38;5;124m'\u001b[39m, index \u001b[38;5;241m=\u001b[39m \u001b[38;5;28;01mFalse\u001b[39;00m)\n",
      "File \u001b[1;32m~\\anaconda3\\Lib\\site-packages\\pandas\\util\\_decorators.py:333\u001b[0m, in \u001b[0;36mdeprecate_nonkeyword_arguments.<locals>.decorate.<locals>.wrapper\u001b[1;34m(*args, **kwargs)\u001b[0m\n\u001b[0;32m    327\u001b[0m \u001b[38;5;28;01mif\u001b[39;00m \u001b[38;5;28mlen\u001b[39m(args) \u001b[38;5;241m>\u001b[39m num_allow_args:\n\u001b[0;32m    328\u001b[0m     warnings\u001b[38;5;241m.\u001b[39mwarn(\n\u001b[0;32m    329\u001b[0m         msg\u001b[38;5;241m.\u001b[39mformat(arguments\u001b[38;5;241m=\u001b[39m_format_argument_list(allow_args)),\n\u001b[0;32m    330\u001b[0m         \u001b[38;5;167;01mFutureWarning\u001b[39;00m,\n\u001b[0;32m    331\u001b[0m         stacklevel\u001b[38;5;241m=\u001b[39mfind_stack_level(),\n\u001b[0;32m    332\u001b[0m     )\n\u001b[1;32m--> 333\u001b[0m \u001b[38;5;28;01mreturn\u001b[39;00m func(\u001b[38;5;241m*\u001b[39margs, \u001b[38;5;241m*\u001b[39m\u001b[38;5;241m*\u001b[39mkwargs)\n",
      "File \u001b[1;32m~\\anaconda3\\Lib\\site-packages\\pandas\\core\\generic.py:2417\u001b[0m, in \u001b[0;36mNDFrame.to_excel\u001b[1;34m(self, excel_writer, sheet_name, na_rep, float_format, columns, header, index, index_label, startrow, startcol, engine, merge_cells, inf_rep, freeze_panes, storage_options, engine_kwargs)\u001b[0m\n\u001b[0;32m   2404\u001b[0m \u001b[38;5;28;01mfrom\u001b[39;00m \u001b[38;5;21;01mpandas\u001b[39;00m\u001b[38;5;21;01m.\u001b[39;00m\u001b[38;5;21;01mio\u001b[39;00m\u001b[38;5;21;01m.\u001b[39;00m\u001b[38;5;21;01mformats\u001b[39;00m\u001b[38;5;21;01m.\u001b[39;00m\u001b[38;5;21;01mexcel\u001b[39;00m \u001b[38;5;28;01mimport\u001b[39;00m ExcelFormatter\n\u001b[0;32m   2406\u001b[0m formatter \u001b[38;5;241m=\u001b[39m ExcelFormatter(\n\u001b[0;32m   2407\u001b[0m     df,\n\u001b[0;32m   2408\u001b[0m     na_rep\u001b[38;5;241m=\u001b[39mna_rep,\n\u001b[1;32m   (...)\u001b[0m\n\u001b[0;32m   2415\u001b[0m     inf_rep\u001b[38;5;241m=\u001b[39minf_rep,\n\u001b[0;32m   2416\u001b[0m )\n\u001b[1;32m-> 2417\u001b[0m formatter\u001b[38;5;241m.\u001b[39mwrite(\n\u001b[0;32m   2418\u001b[0m     excel_writer,\n\u001b[0;32m   2419\u001b[0m     sheet_name\u001b[38;5;241m=\u001b[39msheet_name,\n\u001b[0;32m   2420\u001b[0m     startrow\u001b[38;5;241m=\u001b[39mstartrow,\n\u001b[0;32m   2421\u001b[0m     startcol\u001b[38;5;241m=\u001b[39mstartcol,\n\u001b[0;32m   2422\u001b[0m     freeze_panes\u001b[38;5;241m=\u001b[39mfreeze_panes,\n\u001b[0;32m   2423\u001b[0m     engine\u001b[38;5;241m=\u001b[39mengine,\n\u001b[0;32m   2424\u001b[0m     storage_options\u001b[38;5;241m=\u001b[39mstorage_options,\n\u001b[0;32m   2425\u001b[0m     engine_kwargs\u001b[38;5;241m=\u001b[39mengine_kwargs,\n\u001b[0;32m   2426\u001b[0m )\n",
      "File \u001b[1;32m~\\anaconda3\\Lib\\site-packages\\pandas\\io\\formats\\excel.py:931\u001b[0m, in \u001b[0;36mExcelFormatter.write\u001b[1;34m(self, writer, sheet_name, startrow, startcol, freeze_panes, engine, storage_options, engine_kwargs)\u001b[0m\n\u001b[0;32m    929\u001b[0m num_rows, num_cols \u001b[38;5;241m=\u001b[39m \u001b[38;5;28mself\u001b[39m\u001b[38;5;241m.\u001b[39mdf\u001b[38;5;241m.\u001b[39mshape\n\u001b[0;32m    930\u001b[0m \u001b[38;5;28;01mif\u001b[39;00m num_rows \u001b[38;5;241m>\u001b[39m \u001b[38;5;28mself\u001b[39m\u001b[38;5;241m.\u001b[39mmax_rows \u001b[38;5;129;01mor\u001b[39;00m num_cols \u001b[38;5;241m>\u001b[39m \u001b[38;5;28mself\u001b[39m\u001b[38;5;241m.\u001b[39mmax_cols:\n\u001b[1;32m--> 931\u001b[0m     \u001b[38;5;28;01mraise\u001b[39;00m \u001b[38;5;167;01mValueError\u001b[39;00m(\n\u001b[0;32m    932\u001b[0m         \u001b[38;5;124mf\u001b[39m\u001b[38;5;124m\"\u001b[39m\u001b[38;5;124mThis sheet is too large! Your sheet size is: \u001b[39m\u001b[38;5;132;01m{\u001b[39;00mnum_rows\u001b[38;5;132;01m}\u001b[39;00m\u001b[38;5;124m, \u001b[39m\u001b[38;5;132;01m{\u001b[39;00mnum_cols\u001b[38;5;132;01m}\u001b[39;00m\u001b[38;5;124m \u001b[39m\u001b[38;5;124m\"\u001b[39m\n\u001b[0;32m    933\u001b[0m         \u001b[38;5;124mf\u001b[39m\u001b[38;5;124m\"\u001b[39m\u001b[38;5;124mMax sheet size is: \u001b[39m\u001b[38;5;132;01m{\u001b[39;00m\u001b[38;5;28mself\u001b[39m\u001b[38;5;241m.\u001b[39mmax_rows\u001b[38;5;132;01m}\u001b[39;00m\u001b[38;5;124m, \u001b[39m\u001b[38;5;132;01m{\u001b[39;00m\u001b[38;5;28mself\u001b[39m\u001b[38;5;241m.\u001b[39mmax_cols\u001b[38;5;132;01m}\u001b[39;00m\u001b[38;5;124m\"\u001b[39m\n\u001b[0;32m    934\u001b[0m     )\n\u001b[0;32m    936\u001b[0m \u001b[38;5;28;01mif\u001b[39;00m engine_kwargs \u001b[38;5;129;01mis\u001b[39;00m \u001b[38;5;28;01mNone\u001b[39;00m:\n\u001b[0;32m    937\u001b[0m     engine_kwargs \u001b[38;5;241m=\u001b[39m {}\n",
      "\u001b[1;31mValueError\u001b[0m: This sheet is too large! Your sheet size is: 0, 19564 Max sheet size is: 1048576, 16384"
     ]
    }
   ],
   "source": [
    "new_col_df.to_excel('good_stock_list.xlsx', index = False)"
   ]
  },
  {
   "cell_type": "code",
   "execution_count": null,
   "id": "20f80534-cddc-4b3a-b5ae-1dd8dda77848",
   "metadata": {},
   "outputs": [],
   "source": []
  }
 ],
 "metadata": {
  "kernelspec": {
   "display_name": "Python 3 (ipykernel)",
   "language": "python",
   "name": "python3"
  },
  "language_info": {
   "codemirror_mode": {
    "name": "ipython",
    "version": 3
   },
   "file_extension": ".py",
   "mimetype": "text/x-python",
   "name": "python",
   "nbconvert_exporter": "python",
   "pygments_lexer": "ipython3",
   "version": "3.12.4"
  }
 },
 "nbformat": 4,
 "nbformat_minor": 5
}
